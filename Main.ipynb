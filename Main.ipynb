{
 "cells": [
  {
   "cell_type": "markdown",
   "metadata": {},
   "source": [
    "# DataSets"
   ]
  },
  {
   "cell_type": "code",
   "execution_count": 1,
   "metadata": {},
   "outputs": [],
   "source": [
    "# Import required libarires\n",
    "import pandas as pd\n",
    "import re\n",
    "import seaborn as sns\n",
    "import matplotlib.pyplot as plt\n",
    "%matplotlib inline"
   ]
  },
  {
   "cell_type": "code",
   "execution_count": null,
   "metadata": {},
   "outputs": [],
   "source": [
    "# Create dictionary of brands and map keywords to the brand names\n",
    "\n",
    "brand_mapping = {\n",
    "    # Fashion Brands\n",
    "    'Louis Vuitton': 'Louis Vuitton', 'Louis': 'Louis Vuitton', 'LV': 'Louis Vuitton',\n",
    "    'Gucci': 'Gucci',\n",
    "    'Versace': 'Versace', 'Medusa': 'Versace',\n",
    "    'Balenciaga': 'Balenciaga', 'Balenci': 'Balenciaga', 'Balenci\\'s': 'Balenciaga',\n",
    "    'Givenchy': 'Givenchy',\n",
    "    \n",
    "    # Alcohol Brands\n",
    "    'Hennessy': 'Hennessy', 'Henny': 'Hennessy', 'Hen': 'Hennessy',\n",
    "    'Cristal': 'Cristal', 'Crist': 'Cristal', 'Bubbles': 'Cristal',\n",
    "    'Patrón': 'Patrón', 'Pat': 'Patrón',\n",
    "    'Ciroc': 'Ciroc', 'Diddy Juice': 'Ciroc',\n",
    "    \n",
    "    # Car Brands\n",
    "    'Lamborghini': 'Lamborghini', 'Lambo': 'Lamborghini', 'Ghini': 'Lamborghini',\n",
    "    'Ferrari': 'Ferrari', 'Rari': 'Ferrari', 'Ferr': 'Ferrari',\n",
    "    'Porsche': 'Porsche', 'Porscha': 'Porsche',\n",
    "    'Bentley': 'Bentley', 'Bent': 'Bentley',\n",
    "    'Rolls-Royce': 'Rolls-Royce', 'Rolls': 'Rolls-Royce', 'Ghost': 'Rolls-Royce',\n",
    "    'Mercedes-Benz': 'Mercedes-Benz', 'Mercedes': 'Mercedes-Benz', 'Benz': 'Mercedes-Benz', 'Merc': 'Mercedes-Benz', 'Benzo': 'Mercedes-Benz', 'S Class': 'Mercedes-Benz', 'G-Wagon': 'Mercedes-Benz', 'G Wagon': 'Mercedes-Benz',\n",
    "    \n",
    "    # Watch Brands\n",
    "    'Rolex': 'Rolex', 'Rolly': 'Rolex', 'Roley': 'Rolex',\n",
    "    'Patek Philippe': 'Patek Philippe', 'Patek': 'Patek Philippe', 'AP': 'Patek Philippe',\n",
    "    'Hublot': 'Hublot', 'Big Bang': 'Hublot',\n",
    "    \n",
    "    # Other Brands\n",
    "    'Nike': 'Nike', 'Swoosh': 'Nike', 'Nikes': 'Nike', 'Jordans' : 'Nike',\n",
    "    'Adidas': 'Adidas', 'Stripes': 'Adidas', 'Adi': 'Adidas',\n",
    "    'Supreme': 'Supreme', 'Sup': 'Supreme'\n",
    "}\n",
    "\n",
    "brands = list(set(brand_mapping.keys()).union(set(brand_mapping.values())))\n"
   ]
  },
  {
   "cell_type": "markdown",
   "metadata": {},
   "source": [
    "# Drake"
   ]
  },
  {
   "cell_type": "code",
   "execution_count": 2,
   "metadata": {},
   "outputs": [],
   "source": [
    "drake_df = pd.read_csv('lyrics/drake.txt', sep = '\\t', header = None, names = ['Drake'])"
   ]
  },
  {
   "cell_type": "code",
   "execution_count": 3,
   "metadata": {},
   "outputs": [
    {
     "data": {
      "text/html": [
       "<div>\n",
       "<style scoped>\n",
       "    .dataframe tbody tr th:only-of-type {\n",
       "        vertical-align: middle;\n",
       "    }\n",
       "\n",
       "    .dataframe tbody tr th {\n",
       "        vertical-align: top;\n",
       "    }\n",
       "\n",
       "    .dataframe thead th {\n",
       "        text-align: right;\n",
       "    }\n",
       "</style>\n",
       "<table border=\"1\" class=\"dataframe\">\n",
       "  <thead>\n",
       "    <tr style=\"text-align: right;\">\n",
       "      <th></th>\n",
       "      <th>Drake</th>\n",
       "    </tr>\n",
       "  </thead>\n",
       "  <tbody>\n",
       "    <tr>\n",
       "      <th>count</th>\n",
       "      <td>2257</td>\n",
       "    </tr>\n",
       "    <tr>\n",
       "      <th>unique</th>\n",
       "      <td>2123</td>\n",
       "    </tr>\n",
       "    <tr>\n",
       "      <th>top</th>\n",
       "      <td>So I don't plan on stoppin' at all</td>\n",
       "    </tr>\n",
       "    <tr>\n",
       "      <th>freq</th>\n",
       "      <td>5</td>\n",
       "    </tr>\n",
       "  </tbody>\n",
       "</table>\n",
       "</div>"
      ],
      "text/plain": [
       "                                     Drake\n",
       "count                                 2257\n",
       "unique                                2123\n",
       "top     So I don't plan on stoppin' at all\n",
       "freq                                     5"
      ]
     },
     "execution_count": 3,
     "metadata": {},
     "output_type": "execute_result"
    }
   ],
   "source": [
    "drake_df.describe()"
   ]
  },
  {
   "cell_type": "code",
   "execution_count": 41,
   "metadata": {},
   "outputs": [
    {
     "name": "stdout",
     "output_type": "stream",
     "text": [
      "             Brand  Total Mentions\n",
      "0            Total            65.0\n",
      "1    Mercedes-Benz            12.0\n",
      "2      Rolls-Royce            12.0\n",
      "3         Hennessy            10.0\n",
      "4             Nike             7.0\n",
      "5          Bentley             6.0\n",
      "6    Louis Vuitton             5.0\n",
      "7          Ferrari             4.0\n",
      "8            Gucci             3.0\n",
      "9   Patek Philippe             2.0\n",
      "10        Givenchy             1.0\n",
      "11         Porsche             1.0\n",
      "12          Adidas             1.0\n",
      "13     Lamborghini             1.0\n"
     ]
    }
   ],
   "source": [
    "\n",
    "# Function to count brand mentions in a string\n",
    "def count_brands(text):\n",
    "    counts = {}\n",
    "    for brand in brands:\n",
    "        pattern = r'\\b' + re.escape(brand) + r'\\b'\n",
    "        count = len(re.findall(pattern, text, re.IGNORECASE))\n",
    "        if count > 0:\n",
    "            main_brand = brand_mapping.get(brand, brand)\n",
    "            counts[main_brand] = counts.get(main_brand, 0) + count\n",
    "    return counts\n",
    "\n",
    "\n",
    "# Apply the function to the lyrics column\n",
    "brand_mentions = drake_df['Drake'].apply(count_brands)\n",
    "\n",
    "# Convert the result to a DataFrame\n",
    "brand_df = pd.DataFrame(brand_mentions.tolist()).fillna(0)\n",
    "\n",
    "# Add a total column\n",
    "brand_df['Total'] = brand_df.sum(axis=1)\n",
    "\n",
    "# Calculate the sum for each brand across all rows\n",
    "brand_totals_drake = brand_df.sum().to_frame('Total Mentions').reset_index()\n",
    "brand_totals_drake.columns = ['Brand', 'Total Mentions']\n",
    "\n",
    "# Sort by total mentions in descending order\n",
    "brand_totals_drake = brand_totals_drake.sort_values('Total Mentions', ascending=False).reset_index(drop = True)\n",
    "\n",
    "# Make a total only table\n",
    "drake_total_only = brand_totals_drake[:1].copy()\n",
    "drake_total_only.iloc[0, 0] = 'Drake'\n",
    "\n",
    "# Result\n",
    "print(brand_totals_drake)\n",
    "\n",
    "# If you want to save this to a CSV file:\n",
    "# brand_totals.to_csv('brand_mentions.csv', index=False)"
   ]
  },
  {
   "cell_type": "code",
   "execution_count": null,
   "metadata": {},
   "outputs": [],
   "source": [
    "# Make HTTP requests\n",
    "import requests\n",
    "# Scrape data from an HTML document\n",
    "from bs4 import BeautifulSoup\n",
    "# I/O\n",
    "import os\n",
    "# Search and manipulate strings\n",
    "import re"
   ]
  },
  {
   "cell_type": "markdown",
   "metadata": {},
   "source": [
    "# Kanye West"
   ]
  },
  {
   "cell_type": "code",
   "execution_count": 6,
   "metadata": {},
   "outputs": [],
   "source": [
    "KanyeW_df = pd.read_csv('lyrics/kanye west.txt', sep = '\\t', header = None, names = ['Kanye West'])"
   ]
  },
  {
   "cell_type": "code",
   "execution_count": 43,
   "metadata": {},
   "outputs": [
    {
     "name": "stdout",
     "output_type": "stream",
     "text": [
      "            Brand  Total Mentions\n",
      "0           Total           106.0\n",
      "1   Louis Vuitton            22.0\n",
      "2     Lamborghini            19.0\n",
      "3     Rolls-Royce            14.0\n",
      "4   Mercedes-Benz            13.0\n",
      "5           Gucci            12.0\n",
      "6            Nike             7.0\n",
      "7         Versace             4.0\n",
      "8        Hennessy             3.0\n",
      "9         Supreme             2.0\n",
      "10        Ferrari             2.0\n",
      "11        Porsche             2.0\n",
      "12         Adidas             2.0\n",
      "13        Bentley             1.0\n",
      "14         Hublot             1.0\n",
      "15        Cristal             1.0\n",
      "16          Rolex             1.0\n"
     ]
    }
   ],
   "source": [
    "import re\n",
    "\n",
    "# Function to count brand mentions in a string\n",
    "def count_brands(text):\n",
    "    counts = {}\n",
    "    for brand in brands:\n",
    "        pattern = r'\\b' + re.escape(brand) + r'\\b'\n",
    "        count = len(re.findall(pattern, text, re.IGNORECASE))\n",
    "        if count > 0:\n",
    "            # Map to main brand name if it's in the mapping\n",
    "            main_brand = brand_mapping.get(brand, brand)\n",
    "            counts[main_brand] = counts.get(main_brand, 0) + count\n",
    "    return counts\n",
    "\n",
    "\n",
    "# Apply the function to the lyrics column\n",
    "brand_mentions = KanyeW_df['Kanye West'].apply(count_brands)\n",
    "\n",
    "# Convert the result to a DataFrame\n",
    "brand_df = pd.DataFrame(brand_mentions.tolist()).fillna(0)\n",
    "\n",
    "# Add a total column\n",
    "brand_df['Total'] = brand_df.sum(axis=1)\n",
    "\n",
    "# Calculate the sum for each brand across all rows\n",
    "brand_totals_kanyew = brand_df.sum().to_frame('Total Mentions').reset_index()\n",
    "brand_totals_kanyew.columns = ['Brand', 'Total Mentions']\n",
    "\n",
    "# Sort by total mentions in descending order\n",
    "brand_totals_kanyew = brand_totals_kanyew.sort_values('Total Mentions', ascending=False).reset_index(drop = True)\n",
    "\n",
    "# Make a total only table\n",
    "kanyew_total_only = brand_totals_kanyew[:1].copy()\n",
    "kanyew_total_only.iloc[0, 0] = 'Kanye West'\n",
    "\n",
    "# Result\n",
    "print(brand_totals_kanyew.iloc[1:])\n",
    "\n",
    "\n"
   ]
  },
  {
   "cell_type": "markdown",
   "metadata": {},
   "source": [
    "# Gucci Mane"
   ]
  },
  {
   "cell_type": "code",
   "execution_count": 8,
   "metadata": {},
   "outputs": [],
   "source": [
    "GucciM_df = pd.read_csv('lyrics/gucci mane.txt', sep = '\\t', header = None, names = ['Gucci Mane'])"
   ]
  },
  {
   "cell_type": "code",
   "execution_count": 44,
   "metadata": {},
   "outputs": [
    {
     "name": "stdout",
     "output_type": "stream",
     "text": [
      "             Brand  Total Mentions\n",
      "1            Gucci            53.0\n",
      "2   Patek Philippe             7.0\n",
      "3          Bentley             5.0\n",
      "4      Rolls-Royce             5.0\n",
      "5           Adidas             4.0\n",
      "6          Versace             3.0\n",
      "7      Lamborghini             3.0\n",
      "8          Porsche             2.0\n",
      "9            Rolex             2.0\n",
      "10   Mercedes-Benz             2.0\n",
      "11         Ferrari             2.0\n",
      "12   Louis Vuitton             1.0\n",
      "13        Givenchy             1.0\n",
      "14            Nike             1.0\n"
     ]
    }
   ],
   "source": [
    "import re\n",
    "\n",
    "# Function to count brand mentions in a string\n",
    "def count_brands(text):\n",
    "    counts = {}\n",
    "    for brand in brands:\n",
    "        pattern = r'\\b' + re.escape(brand) + r'\\b'\n",
    "        count = len(re.findall(pattern, text, re.IGNORECASE))\n",
    "        if count > 0:\n",
    "            # Map to main brand name if it's in the mapping\n",
    "            main_brand = brand_mapping.get(brand, brand)\n",
    "            counts[main_brand] = counts.get(main_brand, 0) + count\n",
    "    return counts\n",
    "\n",
    "\n",
    "# Apply the function to the lyrics column\n",
    "brand_mentions = GucciM_df['Gucci Mane'].apply(count_brands)\n",
    "\n",
    "# Convert the result to a DataFrame\n",
    "brand_df = pd.DataFrame(brand_mentions.tolist()).fillna(0)\n",
    "\n",
    "# Add a total column\n",
    "brand_df['Total'] = brand_df.sum(axis=1)\n",
    "\n",
    "# Calculate the sum for each brand across all rows\n",
    "brand_totals_guccim = brand_df.sum().to_frame('Total Mentions').reset_index()\n",
    "brand_totals_guccim.columns = ['Brand', 'Total Mentions']\n",
    "\n",
    "# Sort by total mentions in descending order\n",
    "brand_totals_guccim = brand_totals_guccim.sort_values('Total Mentions', ascending=False).reset_index(drop = True)\n",
    "\n",
    "# Make a total only table\n",
    "guccim_total_only = brand_totals_guccim[:1].copy()\n",
    "guccim_total_only.iloc[0, 0] = 'Gucci Mane'\n",
    "\n",
    "# Result\n",
    "print(brand_totals_guccim.iloc[1:])"
   ]
  },
  {
   "cell_type": "markdown",
   "metadata": {},
   "source": [
    "# Cardi B"
   ]
  },
  {
   "cell_type": "code",
   "execution_count": 10,
   "metadata": {},
   "outputs": [],
   "source": [
    "CardiB_df = pd.read_csv('lyrics/cardi b.txt', sep = '\\t', header = None, names = ['Cardi B'])"
   ]
  },
  {
   "cell_type": "code",
   "execution_count": 11,
   "metadata": {},
   "outputs": [
    {
     "name": "stdout",
     "output_type": "stream",
     "text": [
      "             Brand  Total Mentions\n",
      "1          Bentley            16.0\n",
      "2          Ferrari             7.0\n",
      "3         Hennessy             5.0\n",
      "4   Patek Philippe             4.0\n",
      "5         Givenchy             4.0\n",
      "6       Balenciaga             4.0\n",
      "7          Versace             3.0\n",
      "8      Lamborghini             2.0\n",
      "9      Rolls-Royce             1.0\n",
      "10         Porsche             1.0\n",
      "11           Gucci             1.0\n",
      "12            Nike             1.0\n",
      "13   Louis Vuitton             1.0\n",
      "14          Adidas             1.0\n"
     ]
    }
   ],
   "source": [
    "# Function to count brand mentions in a string\n",
    "def count_brands(text):\n",
    "    counts = {}\n",
    "    for brand in brands:\n",
    "        pattern = r'\\b' + re.escape(brand) + r'\\b'\n",
    "        count = len(re.findall(pattern, text, re.IGNORECASE))\n",
    "        if count > 0:\n",
    "            # Map to main brand name if it's in the mapping\n",
    "            main_brand = brand_mapping.get(brand, brand)\n",
    "            counts[main_brand] = counts.get(main_brand, 0) + count\n",
    "    return counts\n",
    "\n",
    "\n",
    "# Apply the function to the lyrics column\n",
    "brand_mentions = CardiB_df['Cardi B'].apply(count_brands)\n",
    "\n",
    "# Convert the result to a DataFrame\n",
    "brand_df = pd.DataFrame(brand_mentions.tolist()).fillna(0)\n",
    "\n",
    "# Add a total column\n",
    "brand_df['Total'] = brand_df.sum(axis=1)\n",
    "\n",
    "# Calculate the sum for each brand across all rows\n",
    "brand_totals_cardib = brand_df.sum().to_frame('Total Mentions').reset_index()\n",
    "brand_totals_cardib.columns = ['Brand', 'Total Mentions']\n",
    "\n",
    "# Sort by total mentions in descending order\n",
    "brand_totals_cardib = brand_totals_cardib.sort_values('Total Mentions', ascending=False).reset_index(drop = True)\n",
    "\n",
    "# Make a total only table\n",
    "cardib_total_only = brand_totals_cardib[:1].copy()\n",
    "cardib_total_only.iloc[0, 0] = 'Cardi B'\n",
    "\n",
    "# Result\n",
    "print(brand_totals_cardib.iloc[1:])"
   ]
  },
  {
   "cell_type": "markdown",
   "metadata": {},
   "source": [
    "# A$AP Rocky"
   ]
  },
  {
   "cell_type": "code",
   "execution_count": 12,
   "metadata": {},
   "outputs": [],
   "source": [
    "rocky_df = pd.read_csv('lyrics/a$ap rocky.txt', sep = '\\t', header = None, names = ['A$AP Rocky'])"
   ]
  },
  {
   "cell_type": "code",
   "execution_count": 13,
   "metadata": {},
   "outputs": [
    {
     "name": "stdout",
     "output_type": "stream",
     "text": [
      "             Brand  Total Mentions\n",
      "1   Patek Philippe            31.0\n",
      "2      Rolls-Royce             9.0\n",
      "3            Gucci             6.0\n",
      "4    Mercedes-Benz             4.0\n",
      "5      Lamborghini             3.0\n",
      "6         Hennessy             3.0\n",
      "7    Louis Vuitton             3.0\n",
      "8          Cristal             3.0\n",
      "9          Versace             3.0\n",
      "10          Adidas             3.0\n",
      "11         Ferrari             2.0\n",
      "12      Balenciaga             2.0\n",
      "13            Nike             2.0\n",
      "14         Bentley             1.0\n",
      "15          Patrón             1.0\n"
     ]
    }
   ],
   "source": [
    "# Function to count brand mentions in a string\n",
    "def count_brands(text):\n",
    "    counts = {}\n",
    "    for brand in brands:\n",
    "        pattern = r'\\b' + re.escape(brand) + r'\\b'\n",
    "        count = len(re.findall(pattern, text, re.IGNORECASE))\n",
    "        if count > 0:\n",
    "            # Map to main brand name if it's in the mapping\n",
    "            main_brand = brand_mapping.get(brand, brand)\n",
    "            counts[main_brand] = counts.get(main_brand, 0) + count\n",
    "    return counts\n",
    "\n",
    "\n",
    "# Apply the function to the lyrics column\n",
    "brand_mentions = rocky_df['A$AP Rocky'].apply(count_brands)\n",
    "\n",
    "# Convert the result to a DataFrame\n",
    "brand_df = pd.DataFrame(brand_mentions.tolist()).fillna(0)\n",
    "\n",
    "# Add a total column\n",
    "brand_df['Total'] = brand_df.sum(axis=1)\n",
    "\n",
    "# Calculate the sum for each brand across all rows\n",
    "brand_totals_arocky = brand_df.sum().to_frame('Total Mentions').reset_index()\n",
    "brand_totals_arocky.columns = ['Brand', 'Total Mentions']\n",
    "\n",
    "# Sort by total mentions in descending order\n",
    "brand_totals_arocky = brand_totals_arocky.sort_values('Total Mentions', ascending=False).reset_index(drop = True)\n",
    "\n",
    "# Make a total only table\n",
    "arocky_total_only = brand_totals_arocky[:1].copy()\n",
    "arocky_total_only.iloc[0, 0] = 'A$AP Rocky'\n",
    "\n",
    "# Result\n",
    "print(brand_totals_arocky.iloc[1:])"
   ]
  },
  {
   "cell_type": "markdown",
   "metadata": {},
   "source": [
    "# Nicki Minaj"
   ]
  },
  {
   "cell_type": "code",
   "execution_count": 16,
   "metadata": {},
   "outputs": [],
   "source": [
    "NickiM_df = pd.read_csv('lyrics/nicki minaj.txt', sep = '\\t', header = None, names = ['Nicki Minaj'])"
   ]
  },
  {
   "cell_type": "code",
   "execution_count": 17,
   "metadata": {},
   "outputs": [
    {
     "name": "stdout",
     "output_type": "stream",
     "text": [
      "             Brand  Total Mentions\n",
      "1           Patrón            33.0\n",
      "2    Mercedes-Benz            11.0\n",
      "3          Bentley             9.0\n",
      "4          Porsche             7.0\n",
      "5      Rolls-Royce             7.0\n",
      "6          Ferrari             5.0\n",
      "7    Louis Vuitton             4.0\n",
      "8            Gucci             3.0\n",
      "9      Lamborghini             3.0\n",
      "10            Nike             3.0\n",
      "11  Patek Philippe             2.0\n",
      "12      Balenciaga             1.0\n",
      "13         Cristal             1.0\n",
      "14        Givenchy             1.0\n",
      "15         Versace             1.0\n",
      "16        Hennessy             1.0\n"
     ]
    }
   ],
   "source": [
    "# Function to count brand mentions in a string\n",
    "def count_brands(text):\n",
    "    counts = {}\n",
    "    for brand in brands:\n",
    "        pattern = r'\\b' + re.escape(brand) + r'\\b'\n",
    "        count = len(re.findall(pattern, text, re.IGNORECASE))\n",
    "        if count > 0:\n",
    "            # Map to main brand name if it's in the mapping\n",
    "            main_brand = brand_mapping.get(brand, brand)\n",
    "            counts[main_brand] = counts.get(main_brand, 0) + count\n",
    "    return counts\n",
    "\n",
    "\n",
    "# Apply the function to the lyrics column\n",
    "brand_mentions = NickiM_df['Nicki Minaj'].apply(count_brands)\n",
    "\n",
    "# Convert the result to a DataFrame\n",
    "brand_df = pd.DataFrame(brand_mentions.tolist()).fillna(0)\n",
    "\n",
    "# Add a total column\n",
    "brand_df['Total'] = brand_df.sum(axis=1)\n",
    "\n",
    "# Calculate the sum for each brand across all rows\n",
    "brand_totals_nickim = brand_df.sum().to_frame('Total Mentions').reset_index()\n",
    "brand_totals_nickim.columns = ['Brand', 'Total Mentions']\n",
    "\n",
    "# Sort by total mentions in descending order\n",
    "brand_totals_nickim = brand_totals_nickim.sort_values('Total Mentions', ascending=False).reset_index(drop = True)\n",
    "\n",
    "# Make a total only table\n",
    "nickim_total_only = brand_totals_nickim[:1].copy()\n",
    "nickim_total_only.iloc[0, 0] = 'Nicki Minja'\n",
    "\n",
    "# Result\n",
    "print(brand_totals_nickim.iloc[1:])"
   ]
  },
  {
   "cell_type": "markdown",
   "metadata": {},
   "source": [
    "# Travis Scott"
   ]
  },
  {
   "cell_type": "code",
   "execution_count": 18,
   "metadata": {},
   "outputs": [],
   "source": [
    "TScott_df = pd.read_csv('lyrics/travis scott.txt', sep = '\\t', header = None, names = ['Travis Scott'])"
   ]
  },
  {
   "cell_type": "code",
   "execution_count": 19,
   "metadata": {},
   "outputs": [
    {
     "name": "stdout",
     "output_type": "stream",
     "text": [
      "             Brand  Total Mentions\n",
      "1    Mercedes-Benz            12.0\n",
      "2      Rolls-Royce             9.0\n",
      "3            Gucci             9.0\n",
      "4      Lamborghini             9.0\n",
      "5   Patek Philippe             7.0\n",
      "6    Louis Vuitton             6.0\n",
      "7          Versace             5.0\n",
      "8           Adidas             5.0\n",
      "9             Nike             4.0\n",
      "10         Ferrari             4.0\n",
      "11         Bentley             3.0\n",
      "12           Rolex             2.0\n",
      "13          Patrón             2.0\n",
      "14      Balenciaga             2.0\n",
      "15        Hennessy             2.0\n",
      "16         Supreme             1.0\n",
      "17         Porsche             1.0\n"
     ]
    }
   ],
   "source": [
    "# Function to count brand mentions in a string\n",
    "def count_brands(text):\n",
    "    counts = {}\n",
    "    for brand in brands:\n",
    "        pattern = r'\\b' + re.escape(brand) + r'\\b'\n",
    "        count = len(re.findall(pattern, text, re.IGNORECASE))\n",
    "        if count > 0:\n",
    "            # Map to main brand name if it's in the mapping\n",
    "            main_brand = brand_mapping.get(brand, brand)\n",
    "            counts[main_brand] = counts.get(main_brand, 0) + count\n",
    "    return counts\n",
    "\n",
    "\n",
    "# Apply the function to the lyrics column\n",
    "brand_mentions = TScott_df['Travis Scott'].apply(count_brands)\n",
    "\n",
    "# Convert the result to a DataFrame\n",
    "brand_df = pd.DataFrame(brand_mentions.tolist()).fillna(0)\n",
    "\n",
    "# Add a total column\n",
    "brand_df['Total'] = brand_df.sum(axis=1)\n",
    "\n",
    "# Calculate the sum for each brand across all rows\n",
    "brand_totals_tscott = brand_df.sum().to_frame('Total Mentions').reset_index()\n",
    "brand_totals_tscott.columns = ['Brand', 'Total Mentions']\n",
    "\n",
    "# Sort by total mentions in descending order\n",
    "brand_totals_tscott = brand_totals_tscott.sort_values('Total Mentions', ascending=False).reset_index(drop = True)\n",
    "\n",
    "# Make a total only table\n",
    "tscott_total_only = brand_totals_tscott[:1].copy()\n",
    "tscott_total_only.iloc[0, 0] = 'Travis Scott'\n",
    "\n",
    "# Result\n",
    "print(brand_totals_tscott.iloc[1:])"
   ]
  },
  {
   "cell_type": "markdown",
   "metadata": {},
   "source": [
    "# 2 Chainz"
   ]
  },
  {
   "cell_type": "code",
   "execution_count": 20,
   "metadata": {},
   "outputs": [],
   "source": [
    "Chainz_df = pd.read_csv('lyrics/2 chainz.txt', sep = '\\t', header = None, names = ['2 Chainz'])"
   ]
  },
  {
   "cell_type": "code",
   "execution_count": 21,
   "metadata": {},
   "outputs": [
    {
     "name": "stdout",
     "output_type": "stream",
     "text": [
      "            Brand  Total Mentions\n",
      "1           Gucci            11.0\n",
      "2            Nike             9.0\n",
      "3         Versace             7.0\n",
      "4         Bentley             6.0\n",
      "5   Louis Vuitton             3.0\n",
      "6         Ferrari             3.0\n",
      "7     Rolls-Royce             2.0\n",
      "8         Porsche             2.0\n",
      "9   Mercedes-Benz             1.0\n",
      "10         Patrón             1.0\n",
      "11     Balenciaga             1.0\n",
      "12        Cristal             1.0\n",
      "13        Supreme             1.0\n",
      "14    Lamborghini             1.0\n"
     ]
    }
   ],
   "source": [
    "# Function to count brand mentions in a string\n",
    "def count_brands(text):\n",
    "    counts = {}\n",
    "    for brand in brands:\n",
    "        pattern = r'\\b' + re.escape(brand) + r'\\b'\n",
    "        count = len(re.findall(pattern, text, re.IGNORECASE))\n",
    "        if count > 0:\n",
    "            # Map to main brand name if it's in the mapping\n",
    "            main_brand = brand_mapping.get(brand, brand)\n",
    "            counts[main_brand] = counts.get(main_brand, 0) + count\n",
    "    return counts\n",
    "\n",
    "\n",
    "# Apply the function to the lyrics column\n",
    "brand_mentions = Chainz_df['2 Chainz'].apply(count_brands)\n",
    "\n",
    "# Convert the result to a DataFrame\n",
    "brand_df = pd.DataFrame(brand_mentions.tolist()).fillna(0)\n",
    "\n",
    "# Add a total column\n",
    "brand_df['Total'] = brand_df.sum(axis=1)\n",
    "\n",
    "# Calculate the sum for each brand across all rows\n",
    "brand_totals_2chainz = brand_df.sum().to_frame('Total Mentions').reset_index()\n",
    "brand_totals_2chainz.columns = ['Brand', 'Total Mentions']\n",
    "\n",
    "# Sort by total mentions in descending order\n",
    "brand_totals_2chainz = brand_totals_2chainz.sort_values('Total Mentions', ascending=False).reset_index(drop = True)\n",
    "\n",
    "# Make a total only table\n",
    "chainz_total_only = brand_totals_2chainz[:1].copy()\n",
    "chainz_total_only.iloc[0, 0] = '2 Chainz'\n",
    "\n",
    "# Result\n",
    "print(brand_totals_2chainz.iloc[1:])"
   ]
  },
  {
   "cell_type": "markdown",
   "metadata": {},
   "source": [
    "# Future"
   ]
  },
  {
   "cell_type": "code",
   "execution_count": 22,
   "metadata": {},
   "outputs": [],
   "source": [
    "Future_df = pd.read_csv('lyrics/future.txt', sep = '\\t', header = None, names = ['Future'])"
   ]
  },
  {
   "cell_type": "code",
   "execution_count": 40,
   "metadata": {},
   "outputs": [
    {
     "name": "stdout",
     "output_type": "stream",
     "text": [
      "             Brand  Total Mentions\n",
      "1   Patek Philippe            25.0\n",
      "2      Rolls-Royce             8.0\n",
      "3            Gucci             7.0\n",
      "4          Bentley             7.0\n",
      "5    Mercedes-Benz             4.0\n",
      "6             Nike             4.0\n",
      "7         Hennessy             4.0\n",
      "8            Rolex             3.0\n",
      "9      Lamborghini             3.0\n",
      "10          Hublot             2.0\n",
      "11   Louis Vuitton             2.0\n",
      "12         Ferrari             1.0\n",
      "13         Versace             1.0\n",
      "14          Adidas             1.0\n",
      "15         Porsche             1.0\n",
      "16      Balenciaga             1.0\n"
     ]
    }
   ],
   "source": [
    "# Function to count brand mentions in a string\n",
    "def count_brands(text):\n",
    "    counts = {}\n",
    "    for brand in brands:\n",
    "        pattern = r'\\b' + re.escape(brand) + r'\\b'\n",
    "        count = len(re.findall(pattern, text, re.IGNORECASE))\n",
    "        if count > 0:\n",
    "            # Map to main brand name if it's in the mapping\n",
    "            main_brand = brand_mapping.get(brand, brand)\n",
    "            counts[main_brand] = counts.get(main_brand, 0) + count\n",
    "    return counts\n",
    "\n",
    "\n",
    "# Apply the function to the lyrics column\n",
    "brand_mentions = Future_df['Future'].apply(count_brands)\n",
    "\n",
    "# Convert the result to a DataFrame\n",
    "brand_df = pd.DataFrame(brand_mentions.tolist()).fillna(0)\n",
    "\n",
    "# Add a total column\n",
    "brand_df['Total'] = brand_df.sum(axis=1)\n",
    "\n",
    "# Calculate the sum for each brand across all rows\n",
    "brand_totals_future = brand_df.sum().to_frame('Total Mentions').reset_index()\n",
    "brand_totals_future.columns = ['Brand', 'Total Mentions']\n",
    "\n",
    "# Sort by total mentions in descending order\n",
    "brand_totals_future = brand_totals_future.sort_values('Total Mentions', ascending=False).reset_index(drop = True)\n",
    "\n",
    "# Make a total only table\n",
    "future_total_only = brand_totals_future[:1].copy()\n",
    "future_total_only.iloc[0, 0] = 'Future'\n",
    "\n",
    "# Result\n",
    "print(brand_totals_future.iloc[1:])"
   ]
  },
  {
   "cell_type": "markdown",
   "metadata": {},
   "source": [
    "# Post Malone"
   ]
  },
  {
   "cell_type": "code",
   "execution_count": 24,
   "metadata": {},
   "outputs": [],
   "source": [
    "PostM_df = pd.read_csv('lyrics/post malone.txt', sep = '\\t', header = None, names = ['Post Malone'])"
   ]
  },
  {
   "cell_type": "code",
   "execution_count": 25,
   "metadata": {},
   "outputs": [
    {
     "name": "stdout",
     "output_type": "stream",
     "text": [
      "             Brand  Total Mentions\n",
      "0      Post Malone            44.0\n",
      "1   Patek Philippe             9.0\n",
      "2    Mercedes-Benz             6.0\n",
      "3      Lamborghini             4.0\n",
      "4             Nike             3.0\n",
      "5      Rolls-Royce             3.0\n",
      "6            Rolex             3.0\n",
      "7         Hennessy             2.0\n",
      "8            Gucci             2.0\n",
      "9          Bentley             2.0\n",
      "10         Supreme             2.0\n",
      "11   Louis Vuitton             2.0\n",
      "12         Porsche             2.0\n",
      "13        Givenchy             2.0\n",
      "14         Versace             1.0\n",
      "15         Ferrari             1.0\n"
     ]
    }
   ],
   "source": [
    "# Function to count brand mentions in a string\n",
    "def count_brands(text):\n",
    "    counts = {}\n",
    "    for brand in brands:\n",
    "        pattern = r'\\b' + re.escape(brand) + r'\\b'\n",
    "        count = len(re.findall(pattern, text, re.IGNORECASE))\n",
    "        if count > 0:\n",
    "            # Map to main brand name if it's in the mapping\n",
    "            main_brand = brand_mapping.get(brand, brand)\n",
    "            counts[main_brand] = counts.get(main_brand, 0) + count\n",
    "    return counts\n",
    "\n",
    "\n",
    "# Apply the function to the lyrics column\n",
    "brand_mentions = PostM_df['Post Malone'].apply(count_brands)\n",
    "\n",
    "# Convert the result to a DataFrame\n",
    "brand_df = pd.DataFrame(brand_mentions.tolist()).fillna(0)\n",
    "\n",
    "# Add a total column\n",
    "brand_df['Total'] = brand_df.sum(axis=1)\n",
    "\n",
    "# Calculate the sum for each brand across all rows\n",
    "brand_totals_postm = brand_df.sum().to_frame('Total Mentions').reset_index()\n",
    "brand_totals_postm.columns = ['Brand', 'Total Mentions']\n",
    "\n",
    "# Sort by total mentions in descending order\n",
    "brand_totals_postm = brand_totals_postm.sort_values('Total Mentions', ascending=False).reset_index(drop = True)\n",
    "\n",
    "# Make a total only table\n",
    "postm_total_only = brand_totals_postm[:1].copy()\n",
    "postm_total_only.iloc[0, 0] = 'Post Malone'\n",
    "\n",
    "# Result\n",
    "print(brand_totals_postm)"
   ]
  },
  {
   "cell_type": "code",
   "execution_count": 26,
   "metadata": {},
   "outputs": [
    {
     "name": "stderr",
     "output_type": "stream",
     "text": [
      "/var/folders/4d/9j99tx5543j_yj5yhz5lzxvm0000gn/T/ipykernel_31382/3203160336.py:6: SettingWithCopyWarning: \n",
      "A value is trying to be set on a copy of a slice from a DataFrame.\n",
      "Try using .loc[row_indexer,col_indexer] = value instead\n",
      "\n",
      "See the caveats in the documentation: https://pandas.pydata.org/pandas-docs/stable/user_guide/indexing.html#returning-a-view-versus-a-copy\n",
      "  df['Artist'] = artist\n",
      "/var/folders/4d/9j99tx5543j_yj5yhz5lzxvm0000gn/T/ipykernel_31382/3203160336.py:6: SettingWithCopyWarning: \n",
      "A value is trying to be set on a copy of a slice from a DataFrame.\n",
      "Try using .loc[row_indexer,col_indexer] = value instead\n",
      "\n",
      "See the caveats in the documentation: https://pandas.pydata.org/pandas-docs/stable/user_guide/indexing.html#returning-a-view-versus-a-copy\n",
      "  df['Artist'] = artist\n",
      "/var/folders/4d/9j99tx5543j_yj5yhz5lzxvm0000gn/T/ipykernel_31382/3203160336.py:6: SettingWithCopyWarning: \n",
      "A value is trying to be set on a copy of a slice from a DataFrame.\n",
      "Try using .loc[row_indexer,col_indexer] = value instead\n",
      "\n",
      "See the caveats in the documentation: https://pandas.pydata.org/pandas-docs/stable/user_guide/indexing.html#returning-a-view-versus-a-copy\n",
      "  df['Artist'] = artist\n",
      "/var/folders/4d/9j99tx5543j_yj5yhz5lzxvm0000gn/T/ipykernel_31382/3203160336.py:6: SettingWithCopyWarning: \n",
      "A value is trying to be set on a copy of a slice from a DataFrame.\n",
      "Try using .loc[row_indexer,col_indexer] = value instead\n",
      "\n",
      "See the caveats in the documentation: https://pandas.pydata.org/pandas-docs/stable/user_guide/indexing.html#returning-a-view-versus-a-copy\n",
      "  df['Artist'] = artist\n",
      "/var/folders/4d/9j99tx5543j_yj5yhz5lzxvm0000gn/T/ipykernel_31382/3203160336.py:6: SettingWithCopyWarning: \n",
      "A value is trying to be set on a copy of a slice from a DataFrame.\n",
      "Try using .loc[row_indexer,col_indexer] = value instead\n",
      "\n",
      "See the caveats in the documentation: https://pandas.pydata.org/pandas-docs/stable/user_guide/indexing.html#returning-a-view-versus-a-copy\n",
      "  df['Artist'] = artist\n",
      "/var/folders/4d/9j99tx5543j_yj5yhz5lzxvm0000gn/T/ipykernel_31382/3203160336.py:6: SettingWithCopyWarning: \n",
      "A value is trying to be set on a copy of a slice from a DataFrame.\n",
      "Try using .loc[row_indexer,col_indexer] = value instead\n",
      "\n",
      "See the caveats in the documentation: https://pandas.pydata.org/pandas-docs/stable/user_guide/indexing.html#returning-a-view-versus-a-copy\n",
      "  df['Artist'] = artist\n",
      "/var/folders/4d/9j99tx5543j_yj5yhz5lzxvm0000gn/T/ipykernel_31382/3203160336.py:6: SettingWithCopyWarning: \n",
      "A value is trying to be set on a copy of a slice from a DataFrame.\n",
      "Try using .loc[row_indexer,col_indexer] = value instead\n",
      "\n",
      "See the caveats in the documentation: https://pandas.pydata.org/pandas-docs/stable/user_guide/indexing.html#returning-a-view-versus-a-copy\n",
      "  df['Artist'] = artist\n",
      "/var/folders/4d/9j99tx5543j_yj5yhz5lzxvm0000gn/T/ipykernel_31382/3203160336.py:6: SettingWithCopyWarning: \n",
      "A value is trying to be set on a copy of a slice from a DataFrame.\n",
      "Try using .loc[row_indexer,col_indexer] = value instead\n",
      "\n",
      "See the caveats in the documentation: https://pandas.pydata.org/pandas-docs/stable/user_guide/indexing.html#returning-a-view-versus-a-copy\n",
      "  df['Artist'] = artist\n",
      "/var/folders/4d/9j99tx5543j_yj5yhz5lzxvm0000gn/T/ipykernel_31382/3203160336.py:6: SettingWithCopyWarning: \n",
      "A value is trying to be set on a copy of a slice from a DataFrame.\n",
      "Try using .loc[row_indexer,col_indexer] = value instead\n",
      "\n",
      "See the caveats in the documentation: https://pandas.pydata.org/pandas-docs/stable/user_guide/indexing.html#returning-a-view-versus-a-copy\n",
      "  df['Artist'] = artist\n",
      "/var/folders/4d/9j99tx5543j_yj5yhz5lzxvm0000gn/T/ipykernel_31382/3203160336.py:6: SettingWithCopyWarning: \n",
      "A value is trying to be set on a copy of a slice from a DataFrame.\n",
      "Try using .loc[row_indexer,col_indexer] = value instead\n",
      "\n",
      "See the caveats in the documentation: https://pandas.pydata.org/pandas-docs/stable/user_guide/indexing.html#returning-a-view-versus-a-copy\n",
      "  df['Artist'] = artist\n"
     ]
    },
    {
     "data": {
      "text/html": [
       "<div>\n",
       "<style scoped>\n",
       "    .dataframe tbody tr th:only-of-type {\n",
       "        vertical-align: middle;\n",
       "    }\n",
       "\n",
       "    .dataframe tbody tr th {\n",
       "        vertical-align: top;\n",
       "    }\n",
       "\n",
       "    .dataframe thead th {\n",
       "        text-align: right;\n",
       "    }\n",
       "</style>\n",
       "<table border=\"1\" class=\"dataframe\">\n",
       "  <thead>\n",
       "    <tr style=\"text-align: right;\">\n",
       "      <th></th>\n",
       "      <th>Brand</th>\n",
       "      <th>Total Mentions</th>\n",
       "      <th>Artist</th>\n",
       "    </tr>\n",
       "  </thead>\n",
       "  <tbody>\n",
       "    <tr>\n",
       "      <th>0</th>\n",
       "      <td>Gucci</td>\n",
       "      <td>107.0</td>\n",
       "      <td>Future, Drake, Gucci Mane, 2 Chainz, A$AP Rock...</td>\n",
       "    </tr>\n",
       "    <tr>\n",
       "      <th>1</th>\n",
       "      <td>Patek Philippe</td>\n",
       "      <td>87.0</td>\n",
       "      <td>Future, Drake, Gucci Mane, A$AP Rocky, Post Ma...</td>\n",
       "    </tr>\n",
       "    <tr>\n",
       "      <th>2</th>\n",
       "      <td>Rolls-Royce</td>\n",
       "      <td>70.0</td>\n",
       "      <td>Future, Drake, Gucci Mane, 2 Chainz, A$AP Rock...</td>\n",
       "    </tr>\n",
       "    <tr>\n",
       "      <th>3</th>\n",
       "      <td>Mercedes-Benz</td>\n",
       "      <td>65.0</td>\n",
       "      <td>Future, Drake, Gucci Mane, 2 Chainz, A$AP Rock...</td>\n",
       "    </tr>\n",
       "    <tr>\n",
       "      <th>4</th>\n",
       "      <td>Bentley</td>\n",
       "      <td>56.0</td>\n",
       "      <td>Future, Drake, Gucci Mane, 2 Chainz, A$AP Rock...</td>\n",
       "    </tr>\n",
       "    <tr>\n",
       "      <th>5</th>\n",
       "      <td>Louis Vuitton</td>\n",
       "      <td>49.0</td>\n",
       "      <td>Future, Drake, Gucci Mane, 2 Chainz, A$AP Rock...</td>\n",
       "    </tr>\n",
       "    <tr>\n",
       "      <th>6</th>\n",
       "      <td>Lamborghini</td>\n",
       "      <td>48.0</td>\n",
       "      <td>Future, Drake, Gucci Mane, 2 Chainz, A$AP Rock...</td>\n",
       "    </tr>\n",
       "    <tr>\n",
       "      <th>7</th>\n",
       "      <td>Nike</td>\n",
       "      <td>41.0</td>\n",
       "      <td>Future, Drake, Gucci Mane, 2 Chainz, A$AP Rock...</td>\n",
       "    </tr>\n",
       "    <tr>\n",
       "      <th>8</th>\n",
       "      <td>Patrón</td>\n",
       "      <td>37.0</td>\n",
       "      <td>Nicki Minaj, 2 Chainz, A$AP Rocky, Travis Scott</td>\n",
       "    </tr>\n",
       "    <tr>\n",
       "      <th>9</th>\n",
       "      <td>Ferrari</td>\n",
       "      <td>31.0</td>\n",
       "      <td>Future, Drake, Gucci Mane, 2 Chainz, A$AP Rock...</td>\n",
       "    </tr>\n",
       "    <tr>\n",
       "      <th>10</th>\n",
       "      <td>Hennessy</td>\n",
       "      <td>30.0</td>\n",
       "      <td>Future, Drake, A$AP Rocky, Post Malone, Kanye ...</td>\n",
       "    </tr>\n",
       "    <tr>\n",
       "      <th>11</th>\n",
       "      <td>Versace</td>\n",
       "      <td>28.0</td>\n",
       "      <td>Future, Gucci Mane, 2 Chainz, A$AP Rocky, Post...</td>\n",
       "    </tr>\n",
       "    <tr>\n",
       "      <th>12</th>\n",
       "      <td>Porsche</td>\n",
       "      <td>19.0</td>\n",
       "      <td>Future, Drake, Gucci Mane, 2 Chainz, Post Malo...</td>\n",
       "    </tr>\n",
       "    <tr>\n",
       "      <th>13</th>\n",
       "      <td>Adidas</td>\n",
       "      <td>17.0</td>\n",
       "      <td>Future, Drake, Gucci Mane, A$AP Rocky, Kanye W...</td>\n",
       "    </tr>\n",
       "    <tr>\n",
       "      <th>14</th>\n",
       "      <td>Balenciaga</td>\n",
       "      <td>11.0</td>\n",
       "      <td>Future, 2 Chainz, A$AP Rocky, Cardi B, Nicki M...</td>\n",
       "    </tr>\n",
       "    <tr>\n",
       "      <th>15</th>\n",
       "      <td>Rolex</td>\n",
       "      <td>11.0</td>\n",
       "      <td>Future, Gucci Mane, Post Malone, Kanye West, T...</td>\n",
       "    </tr>\n",
       "    <tr>\n",
       "      <th>16</th>\n",
       "      <td>Givenchy</td>\n",
       "      <td>9.0</td>\n",
       "      <td>Drake, Gucci Mane, Post Malone, Cardi B, Nicki...</td>\n",
       "    </tr>\n",
       "    <tr>\n",
       "      <th>17</th>\n",
       "      <td>Cristal</td>\n",
       "      <td>6.0</td>\n",
       "      <td>Kanye West, Nicki Minaj, 2 Chainz, A$AP Rocky</td>\n",
       "    </tr>\n",
       "    <tr>\n",
       "      <th>18</th>\n",
       "      <td>Supreme</td>\n",
       "      <td>6.0</td>\n",
       "      <td>Kanye West, 2 Chainz, Post Malone, Travis Scott</td>\n",
       "    </tr>\n",
       "    <tr>\n",
       "      <th>19</th>\n",
       "      <td>Hublot</td>\n",
       "      <td>3.0</td>\n",
       "      <td>Future, Kanye West</td>\n",
       "    </tr>\n",
       "  </tbody>\n",
       "</table>\n",
       "</div>"
      ],
      "text/plain": [
       "             Brand  Total Mentions  \\\n",
       "0            Gucci           107.0   \n",
       "1   Patek Philippe            87.0   \n",
       "2      Rolls-Royce            70.0   \n",
       "3    Mercedes-Benz            65.0   \n",
       "4          Bentley            56.0   \n",
       "5    Louis Vuitton            49.0   \n",
       "6      Lamborghini            48.0   \n",
       "7             Nike            41.0   \n",
       "8           Patrón            37.0   \n",
       "9          Ferrari            31.0   \n",
       "10        Hennessy            30.0   \n",
       "11         Versace            28.0   \n",
       "12         Porsche            19.0   \n",
       "13          Adidas            17.0   \n",
       "14      Balenciaga            11.0   \n",
       "15           Rolex            11.0   \n",
       "16        Givenchy             9.0   \n",
       "17         Cristal             6.0   \n",
       "18         Supreme             6.0   \n",
       "19          Hublot             3.0   \n",
       "\n",
       "                                               Artist  \n",
       "0   Future, Drake, Gucci Mane, 2 Chainz, A$AP Rock...  \n",
       "1   Future, Drake, Gucci Mane, A$AP Rocky, Post Ma...  \n",
       "2   Future, Drake, Gucci Mane, 2 Chainz, A$AP Rock...  \n",
       "3   Future, Drake, Gucci Mane, 2 Chainz, A$AP Rock...  \n",
       "4   Future, Drake, Gucci Mane, 2 Chainz, A$AP Rock...  \n",
       "5   Future, Drake, Gucci Mane, 2 Chainz, A$AP Rock...  \n",
       "6   Future, Drake, Gucci Mane, 2 Chainz, A$AP Rock...  \n",
       "7   Future, Drake, Gucci Mane, 2 Chainz, A$AP Rock...  \n",
       "8     Nicki Minaj, 2 Chainz, A$AP Rocky, Travis Scott  \n",
       "9   Future, Drake, Gucci Mane, 2 Chainz, A$AP Rock...  \n",
       "10  Future, Drake, A$AP Rocky, Post Malone, Kanye ...  \n",
       "11  Future, Gucci Mane, 2 Chainz, A$AP Rocky, Post...  \n",
       "12  Future, Drake, Gucci Mane, 2 Chainz, Post Malo...  \n",
       "13  Future, Drake, Gucci Mane, A$AP Rocky, Kanye W...  \n",
       "14  Future, 2 Chainz, A$AP Rocky, Cardi B, Nicki M...  \n",
       "15  Future, Gucci Mane, Post Malone, Kanye West, T...  \n",
       "16  Drake, Gucci Mane, Post Malone, Cardi B, Nicki...  \n",
       "17      Kanye West, Nicki Minaj, 2 Chainz, A$AP Rocky  \n",
       "18    Kanye West, 2 Chainz, Post Malone, Travis Scott  \n",
       "19                                 Future, Kanye West  "
      ]
     },
     "execution_count": 26,
     "metadata": {},
     "output_type": "execute_result"
    }
   ],
   "source": [
    "# Lists of required data frames and artists\n",
    "dfs = [brand_totals_2chainz.iloc[1:], brand_totals_arocky.iloc[1:], brand_totals_cardib.iloc[1:], brand_totals_future.iloc[1:], brand_totals_drake.iloc[1:], brand_totals_guccim.iloc[1:], brand_totals_kanyew.iloc[1:], brand_totals_nickim.iloc[1:], brand_totals_postm.iloc[1:], brand_totals_tscott.iloc[1:]]  # List of your DataFrames\n",
    "artists = ['2 Chainz', 'A$AP Rocky', 'Cardi B', 'Future', 'Drake', 'Gucci Mane', 'Kanye West', 'Nicki Minaj', 'Post Malone', 'Travis Scott']  \n",
    "\n",
    "# Add 'Artist' column to each DataFrame\n",
    "for df, artist in zip(dfs, artists):\n",
    "    df['Artist'] = artist\n",
    "\n",
    "# Concatenate all DataFrames\n",
    "combined_df = pd.concat(dfs, ignore_index=True)\n",
    "\n",
    "# Group by 'Brand' and sum 'Total Mentions', keeping track of artists\n",
    "result_df = combined_df.groupby('Brand').agg({\n",
    "    'Total Mentions': 'sum',\n",
    "    'Artist': lambda x: ', '.join(set(x))\n",
    "}).reset_index()\n",
    "\n",
    "# Sort by total mentions in descending order\n",
    "result_df = result_df.sort_values('Total Mentions', ascending=False).reset_index(drop = True)\n",
    "\n",
    "# Results\n",
    "result_df"
   ]
  },
  {
   "cell_type": "code",
   "execution_count": 46,
   "metadata": {},
   "outputs": [],
   "source": [
    "result_df.to_csv(\"final.csv\", index = False)"
   ]
  },
  {
   "cell_type": "markdown",
   "metadata": {},
   "source": [
    "# Which Brand Has the Highest Mentions?"
   ]
  },
  {
   "cell_type": "code",
   "execution_count": 28,
   "metadata": {},
   "outputs": [
    {
     "name": "stderr",
     "output_type": "stream",
     "text": [
      "/var/folders/4d/9j99tx5543j_yj5yhz5lzxvm0000gn/T/ipykernel_31382/173413168.py:3: FutureWarning: \n",
      "\n",
      "Passing `palette` without assigning `hue` is deprecated and will be removed in v0.14.0. Assign the `x` variable to `hue` and set `legend=False` for the same effect.\n",
      "\n",
      "  sns.barplot(data = result_df, x = \"Brand\", y =\"Total Mentions\", palette = \"flare\")\n"
     ]
    },
    {
     "data": {
      "text/plain": [
       "Text(0, 0.5, 'Total Mentions')"
      ]
     },
     "execution_count": 28,
     "metadata": {},
     "output_type": "execute_result"
    },
    {
     "data": {
      "image/png": "[encoded data removed]",
      "text/plain": [
       "<Figure size 1400x400 with 1 Axes>"
      ]
     },
     "metadata": {},
     "output_type": "display_data"
    }
   ],
   "source": [
    "# Create bar plot to visualise brand mentions in lyrics\n",
    "plt.figure(figsize = (14, 4))\n",
    "\n",
    "sns.barplot(data = result_df, x = \"Brand\", y =\"Total Mentions\", palette = \"flare\")\n",
    "\n",
    "# Plot Visual Changes\n",
    "plt.title('Brand Mentions in Lyrics', fontweight = 'bold')\n",
    "plt.xlabel('Name of the Brand', fontweight = 'bold')\n",
    "plt.xticks(rotation = 45)\n",
    "plt.ylabel('Total Mentions', fontweight = 'bold')"
   ]
  },
  {
   "cell_type": "markdown",
   "metadata": {},
   "source": [
    "# Which Artist Had the Highest Mentions?"
   ]
  },
  {
   "cell_type": "code",
   "execution_count": 29,
   "metadata": {},
   "outputs": [],
   "source": [
    "# Create a table showing total mentions of all artists\n",
    "totals = [chainz_total_only, arocky_total_only, cardib_total_only, future_total_only, drake_total_only, guccim_total_only, kanyew_total_only, nickim_total_only, postm_total_only, tscott_total_only]\n",
    "total_mentions_df = pd.concat(totals, ignore_index = True)"
   ]
  },
  {
   "cell_type": "code",
   "execution_count": 30,
   "metadata": {},
   "outputs": [
    {
     "data": {
      "text/html": [
       "<div>\n",
       "<style scoped>\n",
       "    .dataframe tbody tr th:only-of-type {\n",
       "        vertical-align: middle;\n",
       "    }\n",
       "\n",
       "    .dataframe tbody tr th {\n",
       "        vertical-align: top;\n",
       "    }\n",
       "\n",
       "    .dataframe thead th {\n",
       "        text-align: right;\n",
       "    }\n",
       "</style>\n",
       "<table border=\"1\" class=\"dataframe\">\n",
       "  <thead>\n",
       "    <tr style=\"text-align: right;\">\n",
       "      <th></th>\n",
       "      <th>Artist</th>\n",
       "      <th>Total Mentions</th>\n",
       "    </tr>\n",
       "  </thead>\n",
       "  <tbody>\n",
       "    <tr>\n",
       "      <th>0</th>\n",
       "      <td>Kanye West</td>\n",
       "      <td>106.0</td>\n",
       "    </tr>\n",
       "    <tr>\n",
       "      <th>1</th>\n",
       "      <td>Nicki Minja</td>\n",
       "      <td>92.0</td>\n",
       "    </tr>\n",
       "    <tr>\n",
       "      <th>2</th>\n",
       "      <td>Gucci Mane</td>\n",
       "      <td>91.0</td>\n",
       "    </tr>\n",
       "    <tr>\n",
       "      <th>3</th>\n",
       "      <td>Travis Scott</td>\n",
       "      <td>83.0</td>\n",
       "    </tr>\n",
       "    <tr>\n",
       "      <th>4</th>\n",
       "      <td>A$AP Rocky</td>\n",
       "      <td>76.0</td>\n",
       "    </tr>\n",
       "    <tr>\n",
       "      <th>5</th>\n",
       "      <td>Future</td>\n",
       "      <td>74.0</td>\n",
       "    </tr>\n",
       "    <tr>\n",
       "      <th>6</th>\n",
       "      <td>Drake</td>\n",
       "      <td>65.0</td>\n",
       "    </tr>\n",
       "    <tr>\n",
       "      <th>7</th>\n",
       "      <td>Cardi B</td>\n",
       "      <td>51.0</td>\n",
       "    </tr>\n",
       "    <tr>\n",
       "      <th>8</th>\n",
       "      <td>2 Chainz</td>\n",
       "      <td>49.0</td>\n",
       "    </tr>\n",
       "    <tr>\n",
       "      <th>9</th>\n",
       "      <td>Post Malone</td>\n",
       "      <td>44.0</td>\n",
       "    </tr>\n",
       "  </tbody>\n",
       "</table>\n",
       "</div>"
      ],
      "text/plain": [
       "         Artist  Total Mentions\n",
       "0    Kanye West           106.0\n",
       "1   Nicki Minja            92.0\n",
       "2    Gucci Mane            91.0\n",
       "3  Travis Scott            83.0\n",
       "4    A$AP Rocky            76.0\n",
       "5        Future            74.0\n",
       "6         Drake            65.0\n",
       "7       Cardi B            51.0\n",
       "8      2 Chainz            49.0\n",
       "9   Post Malone            44.0"
      ]
     },
     "execution_count": 30,
     "metadata": {},
     "output_type": "execute_result"
    }
   ],
   "source": [
    "total_mentions_df = total_mentions_df.sort_values(by = 'Total Mentions', ascending = False).reset_index(drop = True)\n",
    "total_mentions_df.rename(columns = {'Brand' : 'Artist'}, inplace = True)\n",
    "\n",
    "#total_mentions_df = total_mentions_df.drop('Brand', axis = 1)\n",
    "total_mentions_df"
   ]
  },
  {
   "cell_type": "code",
   "execution_count": 31,
   "metadata": {},
   "outputs": [
    {
     "name": "stderr",
     "output_type": "stream",
     "text": [
      "/var/folders/4d/9j99tx5543j_yj5yhz5lzxvm0000gn/T/ipykernel_31382/1044221644.py:3: FutureWarning: \n",
      "\n",
      "Passing `palette` without assigning `hue` is deprecated and will be removed in v0.14.0. Assign the `x` variable to `hue` and set `legend=False` for the same effect.\n",
      "\n",
      "  sns.barplot(data = total_mentions_df, x = 'Artist', y = 'Total Mentions', palette = 'viridis')\n"
     ]
    },
    {
     "data": {
      "text/plain": [
       "Text(0, 0.5, 'Total Mentions')"
      ]
     },
     "execution_count": 31,
     "metadata": {},
     "output_type": "execute_result"
    },
    {
     "data": {
      "image/png": "[encoded data removed]",
      "text/plain": [
       "<Figure size 1000x400 with 1 Axes>"
      ]
     },
     "metadata": {},
     "output_type": "display_data"
    }
   ],
   "source": [
    "# Create bar plot to visualise top artists\n",
    "plt.figure(figsize = (10, 4))\n",
    "\n",
    "sns.barplot(data = total_mentions_df, x = 'Artist', y = 'Total Mentions', palette = 'viridis')\n",
    "\n",
    "# Plot visual changes\n",
    "plt.title('Top Artists with Brand Mentions in Lyrics', fontweight = 'bold')\n",
    "plt.xlabel('Name of the Artist', fontweight = 'bold')\n",
    "plt.xticks(rotation = 45)\n",
    "plt.ylabel('Total Mentions', fontweight = 'bold')"
   ]
  },
  {
   "cell_type": "markdown",
   "metadata": {},
   "source": [
    "# What was the Impact?"
   ]
  },
  {
   "cell_type": "code",
   "execution_count": 32,
   "metadata": {},
   "outputs": [],
   "source": [
    "lvgtrends = pd.read_csv('lvgtrends.csv')"
   ]
  },
  {
   "cell_type": "code",
   "execution_count": 33,
   "metadata": {},
   "outputs": [
    {
     "name": "stdout",
     "output_type": "stream",
     "text": [
      "<class 'pandas.core.frame.DataFrame'>\n",
      "RangeIndex: 83 entries, 0 to 82\n",
      "Data columns (total 2 columns):\n",
      " #   Column  Non-Null Count  Dtype \n",
      "---  ------  --------------  ----- \n",
      " 0   Month   83 non-null     object\n",
      " 1   Score   83 non-null     int64 \n",
      "dtypes: int64(1), object(1)\n",
      "memory usage: 1.4+ KB\n"
     ]
    }
   ],
   "source": [
    "lvgtrends.info()"
   ]
  },
  {
   "cell_type": "code",
   "execution_count": 34,
   "metadata": {},
   "outputs": [
    {
     "data": {
      "text/plain": [
       "Text(0, 0.5, 'Search Interest')"
      ]
     },
     "execution_count": 34,
     "metadata": {},
     "output_type": "execute_result"
    },
    {
     "data": {
      "image/png": "[encoded data removed]",
      "text/plain": [
       "<Figure size 2000x400 with 1 Axes>"
      ]
     },
     "metadata": {},
     "output_type": "display_data"
    }
   ],
   "source": [
    "# Creat plot to show trends in google search for Louis Vuitton\n",
    "plt.figure(figsize = (20, 4))\n",
    "\n",
    "sns.lineplot(data = lvgtrends, x = 'Month', y = 'Score', marker = 'o')\n",
    "\n",
    "# Adding points of interest on the plot\n",
    "points_of_interest = [(6, 33,'Gold Digger'), (14, 28, 'Stronger'), (50, 41, 'Seven Million'), (65, 60, 'Godzilla'), (70, 71, '200th Birthday Celebrations')] \n",
    "\n",
    "for (x, y, label) in points_of_interest:\n",
    "    plt.plot(lvgtrends['Month'][x], y, 's', color='red')\n",
    "    plt.text(lvgtrends['Month'][x], y, label, fontsize = 10, color = 'red', va ='top')\n",
    "\n",
    "# Plot visual changes\n",
    "plt.title('Google Search Trends', fontweight = 'bold')\n",
    "plt.xlabel('Month/Year', fontweight = 'bold')\n",
    "plt.xticks(rotation = 90)\n",
    "plt.ylabel('Search Interest', fontweight = 'bold')"
   ]
  },
  {
   "cell_type": "markdown",
   "metadata": {},
   "source": []
  }
 ],
 "metadata": {
  "kernelspec": {
   "display_name": "Python 3",
   "language": "python",
   "name": "python3"
  },
  "language_info": {
   "codemirror_mode": {
    "name": "ipython",
    "version": 3
   },
   "file_extension": ".py",
   "mimetype": "text/x-python",
   "name": "python",
   "nbconvert_exporter": "python",
   "pygments_lexer": "ipython3",
   "version": "3.9.6"
  }
 },
 "nbformat": 4,
 "nbformat_minor": 2
}
