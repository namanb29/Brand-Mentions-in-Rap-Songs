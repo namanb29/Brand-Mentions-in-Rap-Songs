{
 "cells": [
  {
   "cell_type": "code",
   "execution_count": 6,
   "metadata": {},
   "outputs": [],
   "source": [
    "# Import required libraries\n",
    "import requests\n",
    "from bs4 import BeautifulSoup\n",
    "import re\n",
    "import os"
   ]
  },
  {
   "cell_type": "markdown",
   "metadata": {},
   "source": [
    "# Retrieving URLs"
   ]
  },
  {
   "cell_type": "code",
   "execution_count": 7,
   "metadata": {},
   "outputs": [
    {
     "name": "stdout",
     "output_type": "stream",
     "text": [
      "Found 100 songs by Kanye West\n"
     ]
    },
    {
     "data": {
      "text/plain": [
       "['https://genius.com/Kanye-west-mercy-lyrics',\n",
       " 'https://genius.com/Jay-z-and-kanye-west-niggas-in-paris-lyrics',\n",
       " 'https://genius.com/Kanye-west-monster-lyrics',\n",
       " 'https://genius.com/Kanye-west-father-stretch-my-hands-pt-1-lyrics',\n",
       " 'https://genius.com/Kanye-west-ultralight-beam-lyrics',\n",
       " 'https://genius.com/Kanye-west-bound-2-lyrics',\n",
       " 'https://genius.com/Kanye-west-jay-z-and-big-sean-clique-lyrics',\n",
       " 'https://genius.com/Lil-pump-and-kanye-west-i-love-it-lyrics',\n",
       " 'https://genius.com/Jay-z-and-kanye-west-no-church-in-the-wild-lyrics',\n",
       " 'https://genius.com/Kanye-west-new-slaves-lyrics',\n",
       " 'https://genius.com/Kanye-west-runaway-lyrics',\n",
       " 'https://genius.com/Kanye-west-blood-on-the-leaves-lyrics',\n",
       " 'https://genius.com/Kanye-west-black-skinhead-lyrics',\n",
       " 'https://genius.com/Drake-kanye-west-lil-wayne-and-eminem-forever-lyrics',\n",
       " 'https://genius.com/Kanye-west-no-more-parties-in-la-lyrics',\n",
       " 'https://genius.com/Kanye-west-famous-lyrics',\n",
       " 'https://genius.com/Kanye-west-power-lyrics',\n",
       " 'https://genius.com/Kanye-west-ghost-town-lyrics',\n",
       " 'https://genius.com/Kanye-west-all-mine-lyrics',\n",
       " 'https://genius.com/Kanye-west-chief-keef-pusha-t-big-sean-and-jadakiss-dont-like1-lyrics',\n",
       " 'https://genius.com/Kanye-west-gold-digger-lyrics',\n",
       " 'https://genius.com/Kanye-west-ty-dolla-sign-and-rich-the-kid-carnival-lyrics',\n",
       " 'https://genius.com/Kanye-west-wolves-lyrics',\n",
       " 'https://genius.com/Kanye-west-i-love-kanye-lyrics',\n",
       " 'https://genius.com/Kanye-west-real-friends-lyrics',\n",
       " 'https://genius.com/Kanye-west-off-the-grid-lyrics',\n",
       " 'https://genius.com/Kanye-west-cant-tell-me-nothing-lyrics',\n",
       " 'https://genius.com/Kanye-west-devil-in-a-new-dress-lyrics',\n",
       " 'https://genius.com/Kanye-west-gorgeous-lyrics',\n",
       " 'https://genius.com/Kanye-west-saint-pablo-lyrics',\n",
       " 'https://genius.com/Kanye-west-pt-2-lyrics',\n",
       " 'https://genius.com/Kanye-west-dark-fantasy-lyrics',\n",
       " 'https://genius.com/Kanye-west-hold-my-liquor-lyrics',\n",
       " 'https://genius.com/Kanye-west-all-of-the-lights-lyrics',\n",
       " 'https://genius.com/Kanye-west-fml-lyrics',\n",
       " 'https://genius.com/Kanye-west-waves-lyrics',\n",
       " 'https://genius.com/Kanye-west-lift-yourself-lyrics',\n",
       " 'https://genius.com/Kanye-west-all-day-lyrics',\n",
       " 'https://genius.com/Kanye-west-blame-game-lyrics',\n",
       " 'https://genius.com/Kanye-west-so-appalled-lyrics',\n",
       " 'https://genius.com/Kanye-west-i-am-a-god-lyrics',\n",
       " 'https://genius.com/Kanye-west-im-in-it-lyrics',\n",
       " 'https://genius.com/Kanye-west-stronger-lyrics',\n",
       " 'https://genius.com/Kanye-west-praise-god-lyrics',\n",
       " 'https://genius.com/Kanye-west-all-falls-down-lyrics',\n",
       " 'https://genius.com/Kanye-west-facts-charlie-heat-version-lyrics',\n",
       " 'https://genius.com/Kanye-west-violent-crimes-lyrics',\n",
       " 'https://genius.com/Kanye-west-and-the-weeknd-hurricane-lyrics',\n",
       " 'https://genius.com/Rihanna-kanye-west-and-paul-mccartney-fourfiveseconds-lyrics',\n",
       " 'https://genius.com/Kanye-west-through-the-wire-lyrics',\n",
       " 'https://genius.com/Kanye-west-i-thought-about-killing-you-lyrics',\n",
       " 'https://genius.com/Kanye-west-flashing-lights-lyrics',\n",
       " 'https://genius.com/Kanye-west-heartless-lyrics',\n",
       " 'https://genius.com/Kanye-west-only-one-lyrics',\n",
       " 'https://genius.com/Kanye-west-30-hours-lyrics',\n",
       " 'https://genius.com/Kanye-west-yikes-lyrics',\n",
       " 'https://genius.com/Kanye-west-jesus-walks-lyrics',\n",
       " 'https://genius.com/Jay-z-and-kanye-west-otis-lyrics',\n",
       " 'https://genius.com/Kanye-west-homecoming-lyrics',\n",
       " 'https://genius.com/Jay-z-and-kanye-west-gotta-have-it-lyrics',\n",
       " 'https://genius.com/Kanye-west-jail-lyrics',\n",
       " 'https://genius.com/Kanye-west-highlights-lyrics',\n",
       " 'https://genius.com/Kanye-west-fade-lyrics',\n",
       " 'https://genius.com/Kanye-west-pusha-t-and-ghostface-killah-new-god-flow1-lyrics',\n",
       " 'https://genius.com/Kanye-west-good-morning-lyrics',\n",
       " 'https://genius.com/Kanye-west-and-dj-khaled-cold-lyrics',\n",
       " 'https://genius.com/Kanye-west-i-wonder-lyrics',\n",
       " 'https://genius.com/Kanye-west-last-call-lyrics',\n",
       " 'https://genius.com/Kanye-west-on-sight-lyrics',\n",
       " 'https://genius.com/Kanye-west-wouldnt-leave-lyrics',\n",
       " 'https://genius.com/Kanye-west-moon-lyrics',\n",
       " 'https://genius.com/Kanye-west-follow-god-lyrics',\n",
       " 'https://genius.com/Kanye-west-closed-on-sunday-lyrics',\n",
       " 'https://genius.com/The-game-and-kanye-west-eazy-lyrics',\n",
       " 'https://genius.com/Kanye-west-touch-the-sky-lyrics',\n",
       " 'https://genius.com/Kanye-west-guilt-trip-lyrics',\n",
       " 'https://genius.com/Kanye-west-lost-in-the-world-lyrics',\n",
       " 'https://genius.com/Kanye-west-good-life-lyrics',\n",
       " 'https://genius.com/Kanye-west-jesus-lord-lyrics',\n",
       " 'https://genius.com/Kanye-west-gucci-mane-big-sean-2-chainz-travis-scott-yo-gotti-quavo-and-desiigner-champions-lyrics',\n",
       " 'https://genius.com/Kanye-west-send-it-up-lyrics',\n",
       " 'https://genius.com/Jay-z-and-kanye-west-murder-to-excellence-lyrics',\n",
       " 'https://genius.com/Kanye-west-selah-lyrics',\n",
       " 'https://genius.com/Twista-kanye-west-and-jamie-foxx-slow-jamz-lyrics',\n",
       " 'https://genius.com/Kanye-west-jonah-lyrics',\n",
       " 'https://genius.com/Kanye-west-diamonds-from-sierra-leone-remix-lyrics',\n",
       " 'https://genius.com/Kanye-west-never-let-me-down-lyrics',\n",
       " 'https://genius.com/Kanye-west-big-brother-lyrics',\n",
       " 'https://genius.com/Kanye-west-no-mistakes-lyrics',\n",
       " 'https://genius.com/Kanye-west-god-is-lyrics',\n",
       " 'https://genius.com/Kanye-west-feedback-lyrics',\n",
       " 'https://genius.com/Kanye-west-hell-of-a-life-lyrics',\n",
       " 'https://genius.com/Kanye-west-freestyle-4-lyrics',\n",
       " 'https://genius.com/Kanye-west-diamonds-from-sierra-leone-lyrics',\n",
       " 'https://genius.com/Jay-z-and-kanye-west-who-gon-stop-me-lyrics',\n",
       " 'https://genius.com/Kanye-west-hey-mama-lyrics',\n",
       " 'https://genius.com/Kanye-west-never-see-me-again-lyrics',\n",
       " 'https://genius.com/Kanye-west-and-ty-dolla-sign-vultures-lyrics',\n",
       " 'https://genius.com/Kanye-west-ok-ok-lyrics',\n",
       " 'https://genius.com/Kanye-west-junya-lyrics']"
      ]
     },
     "execution_count": 7,
     "metadata": {},
     "output_type": "execute_result"
    }
   ],
   "source": [
    "GENIUS_API_TOKEN = 'XXXXXXXXXXXXXXXXXXXX'\n",
    "\n",
    "# Function to make a request to the Genius API for artist information\n",
    "def request_artist_info(artist_name, page):\n",
    "    base_url = 'https://api.genius.com'  \n",
    "    headers = {'Authorization': 'Bearer ' + GENIUS_API_TOKEN}  \n",
    "    search_url = base_url + '/search?per_page=10&page=' + str(page)  \n",
    "    data = {'q': artist_name}  \n",
    "    response = requests.get(search_url, data=data, headers=headers)  \n",
    "    return response  \n",
    "\n",
    "# Function to retrieve song URLs for a given artist\n",
    "def request_song_url(artist_name, song_cap):\n",
    "    page = 1  # Initialize the page number for pagination\n",
    "    songs = []  # Initialize an empty list to store song URLs\n",
    "    \n",
    "    while True:  # Loop until we reach the desired number of songs\n",
    "        response = request_artist_info(artist_name, page)  # Request artist info for the current page\n",
    "        json = response.json() \n",
    "        \n",
    "        # Initialize a list to temporarily hold song information for the current page\n",
    "        song_info = []\n",
    "        \n",
    "        # Filter and collect relevant songs from the response\n",
    "        for hit in json['response']['hits']:\n",
    "            if artist_name.lower() in hit['result']['primary_artist']['name'].lower():\n",
    "                song_info.append(hit) \n",
    "    \n",
    "        # Extract URLs from the song information collected\n",
    "        for song in song_info:\n",
    "            if len(songs) < song_cap: \n",
    "                url = song['result']['url'] \n",
    "                songs.append(url)\n",
    "            \n",
    "        # Break the loop if the desired number of songs is reached\n",
    "        if len(songs) == song_cap:  \n",
    "            break\n",
    "        else:\n",
    "            page += 1 \n",
    "\n",
    "    # Print Result    \n",
    "    print('Found {} songs by {}'.format(len(songs), artist_name))  \n",
    "    return songs  \n",
    "\n",
    "# Example \n",
    "request_song_url('Kanye West', 100)"
   ]
  },
  {
   "cell_type": "markdown",
   "metadata": {},
   "source": [
    "# Scraping Lyrics"
   ]
  },
  {
   "cell_type": "code",
   "execution_count": 8,
   "metadata": {},
   "outputs": [
    {
     "name": "stdout",
     "output_type": "stream",
     "text": [
      "Hahahahaha\n",
      "Tank God\n",
      "I've been fuckin' hoes and poppin' pilliesMan, I feel just like a rockstar\n",
      "All my brothers got that gasAnd they always be smokin' like a Rasta\n",
      "Fuckin' with me, call up on a UziAnd show up, man, them the shottas When my homies pull up on your blockThey make that thing go grra-ta-ta-ta\n",
      "Switch my whip, came back in blackI'm startin' sayin', \"Rest in peace to Bon Scott\"\n",
      "Close that door, we blowin' smokeShe ask me light a fire like I'm Morrison Act a fool on stageProlly leave my fuckin' show in a cop car\n",
      "Shit was legendaryThrew a TV out the window of the Montage\n",
      "Cocaine on the table, liquor pourin', don't give a damn\n",
      "Dude, your girlfriend is a groupie, she just tryna get inSayin', \"I'm with the band\" Now she actin' outta pocket, tryna grab up on my pantsHundred bitches in my trailer say they ain't got a manAnd they all brought a friend\n",
      "I've been fuckin' hoes and poppin' pilliesMan, I feel just like a rockstar\n",
      "All my brothers got that gasAnd they always be smokin' like a Rasta\n",
      "Fuckin' with me, call up on a UziAnd show up, man, them the shottas When my homies pull up on your blockThey make that thing go grra-ta-ta-ta\n",
      "I've been in the Hills fuckin' superstarsFeelin' like a popstar\n",
      "Drankin' Henny, bad bitches jumpin' in the pool\n",
      "Hit her from the back, pullin' on her tracksAnd now she screamin' out, \"¡No más!\"\n",
      "They like, \"Savage, why you got a twelve car garageAnd you only got six cars?\"\n",
      "I ain't with the cakin', how you kiss that?\n",
      "Green hundreds in my safe, I got old racks L.A. bitches always askin', \"Where the coke at?\"\n",
      "Sweeter than a Pop-Tart, you know you are not hard\n",
      "I done made the hot chart, 'member I used to trap hard\n",
      "Livin' like a rockstar, I'm livin' like a rockstar\n",
      "I've been fuckin' hoes and poppin' pilliesMan, I feel just like a rockstar\n",
      "All my brothers got that gasAnd they always be smokin' like a Rasta\n",
      "Fuckin' with me, call up on a UziAnd show up, man, them the shottas When my homies pull up on your blockThey make that thing go grra-ta-ta-ta\n",
      "Star, star, rockstar, rockstar, starRockstarRockstar, feel just like a–RockstarRockstarRockstarFeel just like a…\n"
     ]
    }
   ],
   "source": [
    "# Function to scrape song lyrics from a Genius.com song URL\n",
    "def scrape_song_lyrics(url):\n",
    "    page = requests.get(url)\n",
    "    html = BeautifulSoup(page.text, 'html.parser')\n",
    "    lyrics = html.find_all('span', class_='ReferentFragmentdesktop__Highlight-sc-110r0d9-1 jAzSMw')\n",
    "    \n",
    "    lyrics = '\\n'.join([elem.get_text() for elem in lyrics])\n",
    "    # Remove identifiers like chorus, verse, etc and empty lines\n",
    "    lyrics = re.sub(r'[\\(\\[].*?[\\)\\]]', '', lyrics)\n",
    "    lyrics = lyrics.replace('\\r\\n', '\\n')\n",
    "    lyrics = '\\n'.join(line.strip() for line in lyrics.split('\\n') if line.strip())\n",
    "    # Result     \n",
    "    return lyrics\n",
    "    \n",
    "# Example\n",
    "print(scrape_song_lyrics('https://genius.com/Post-malone-rockstar-lyrics'))"
   ]
  },
  {
   "cell_type": "markdown",
   "metadata": {},
   "source": [
    "# Scraping and Saving All the Lyrics in One File"
   ]
  },
  {
   "cell_type": "code",
   "execution_count": 5,
   "metadata": {},
   "outputs": [
    {
     "name": "stdout",
     "output_type": "stream",
     "text": [
      "Found 100 songs by Post Malone\n",
      "Wrote 934 lines to file from 100 songs\n"
     ]
    }
   ],
   "source": [
    "# Function to write the lyrics of a specified number of songs by an artist to a file\n",
    "def write_lyrics_to_file(artist_name, song_count):\n",
    "    f = open('lyrics/' + artist_name.lower() + '.txt', 'wb')\n",
    "    urls = request_song_url(artist_name, song_count)\n",
    "    # Loop through each URL and scrape the lyrics\n",
    "    for url in urls:\n",
    "        lyrics = scrape_song_lyrics(url)\n",
    "        f.write(lyrics.encode(\"utf8\"))\n",
    "    f.close()\n",
    "    num_lines = sum(1 for line in open('lyrics/' + artist_name.lower() + '.txt', 'rb'))\n",
    "    \n",
    "    # Results\n",
    "    print('Wrote {} lines to file from {} songs'.format(num_lines, song_count))\n",
    "  \n",
    "\n",
    "  \n",
    "# DEMO  \n",
    "write_lyrics_to_file('Post Malone', 100)"
   ]
  }
 ],
 "metadata": {
  "kernelspec": {
   "display_name": "Python 3",
   "language": "python",
   "name": "python3"
  },
  "language_info": {
   "codemirror_mode": {
    "name": "ipython",
    "version": 3
   },
   "file_extension": ".py",
   "mimetype": "text/x-python",
   "name": "python",
   "nbconvert_exporter": "python",
   "pygments_lexer": "ipython3",
   "version": "3.9.6"
  }
 },
 "nbformat": 4,
 "nbformat_minor": 2
}
